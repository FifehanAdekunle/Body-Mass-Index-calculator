{
 "cells": [
  {
   "cell_type": "markdown",
   "id": "87798df6",
   "metadata": {},
   "source": [
    "# Automatic File Explorer"
   ]
  },
  {
   "cell_type": "code",
   "execution_count": 3,
   "id": "6b095255",
   "metadata": {},
   "outputs": [],
   "source": [
    "import os, shutil"
   ]
  },
  {
   "cell_type": "code",
   "execution_count": 32,
   "id": "96a47794",
   "metadata": {},
   "outputs": [],
   "source": [
    "path = r\"C:/Users/hp/Downloads/\""
   ]
  },
  {
   "cell_type": "code",
   "execution_count": 39,
   "id": "c70587a9",
   "metadata": {},
   "outputs": [],
   "source": [
    "file_name = os.listdir(path)"
   ]
  },
  {
   "cell_type": "code",
   "execution_count": 63,
   "id": "45ebeaed",
   "metadata": {
    "scrolled": true
   },
   "outputs": [
    {
     "data": {
      "text/plain": [
       "['2.1.5_Lab_Introduction_to_Microsoft_Excel',\n",
       " 'BODY MASS INDEX CALCULATOR.ipynb',\n",
       " 'BODY MASS INDEX CALCULATOR.py',\n",
       " 'csv files',\n",
       " 'desktop.ini',\n",
       " 'image files',\n",
       " 'Majemilowo Latest Yoruba Movie 2023 Drama _ Itele _ Apa _ Sisi Quadri _ Tosin Olaniyan _Tobi Oladele.mp4',\n",
       " 'Sample Resume 2.docx',\n",
       " 'text files',\n",
       " 'videoplayback.mp4',\n",
       " 'wida',\n",
       " '~$Excel for Analytics Project Series Source File.xlsx']"
      ]
     },
     "execution_count": 63,
     "metadata": {},
     "output_type": "execute_result"
    }
   ],
   "source": [
    " os.listdir(path)"
   ]
  },
  {
   "cell_type": "code",
   "execution_count": 38,
   "id": "da6e5294",
   "metadata": {},
   "outputs": [],
   "source": [
    "folder_names = ['image files','text files','csv files']\n",
    "\n",
    "for loop in range (0,3):\n",
    "    if not os.path.exists( path + folder_names [loop]):\n",
    "        print( path + folder_names [loop])\n",
    "        os.makedirs(( path + folder_names [loop]))"
   ]
  },
  {
   "cell_type": "code",
   "execution_count": 67,
   "id": "a4e87b0f",
   "metadata": {},
   "outputs": [
    {
     "name": "stdout",
     "output_type": "stream",
     "text": [
      "You have moved all files\n",
      "You have moved all files\n",
      "You have moved all files\n",
      "You have moved all files\n",
      "You have moved all files\n",
      "You have moved all files\n",
      "You have moved all files\n",
      "You have moved all files\n",
      "You have moved all files\n",
      "You have moved all files\n",
      "You have moved all files\n",
      "You have moved all files\n",
      "You have moved all files\n",
      "You have moved all files\n",
      "You have moved all files\n",
      "You have moved all files\n",
      "You have moved all files\n",
      "You have moved all files\n",
      "You have moved all files\n",
      "You have moved all files\n",
      "You have moved all files\n",
      "You have moved all files\n",
      "You have moved all files\n",
      "You have moved all files\n",
      "You have moved all files\n",
      "You have moved all files\n",
      "You have moved all files\n",
      "You have moved all files\n",
      "You have moved all files\n",
      "You have moved all files\n",
      "You have moved all files\n",
      "You have moved all files\n",
      "You have moved all files\n",
      "You have moved all files\n",
      "You have moved all files\n",
      "You have moved all files\n",
      "You have moved all files\n",
      "You have moved all files\n",
      "You have moved all files\n",
      "You have moved all files\n",
      "You have moved all files\n",
      "You have moved all files\n",
      "You have moved all files\n",
      "You have moved all files\n",
      "You have moved all files\n",
      "You have moved all files\n",
      "You have moved all files\n",
      "You have moved all files\n",
      "You have moved all files\n",
      "You have moved all files\n",
      "You have moved all files\n",
      "You have moved all files\n",
      "You have moved all files\n",
      "You have moved all files\n",
      "You have moved all files\n",
      "You have moved all files\n",
      "You have moved all files\n",
      "You have moved all files\n",
      "You have moved all files\n",
      "You have moved all files\n",
      "You have moved all files\n",
      "You have moved all files\n",
      "You have moved all files\n",
      "You have moved all files\n",
      "You have moved all files\n",
      "You have moved all files\n",
      "You have moved all files\n",
      "You have moved all files\n",
      "You have moved all files\n",
      "You have moved all files\n",
      "You have moved all files\n",
      "You have moved all files\n",
      "You have moved all files\n",
      "You have moved all files\n",
      "You have moved all files\n",
      "You have moved all files\n",
      "You have moved all files\n",
      "You have moved all files\n",
      "You have moved all files\n",
      "You have moved all files\n",
      "You have moved all files\n",
      "You have moved all files\n",
      "You have moved all files\n",
      "You have moved all files\n",
      "You have moved all files\n",
      "You have moved all files\n",
      "You have moved all files\n"
     ]
    }
   ],
   "source": [
    "for file in file_name:\n",
    "    if \".png\" in file and not os.path.exists( path + \"image files/\" + file):\n",
    "        shutil.move(path + file ,  path + \"image files/\" + file)\n",
    "    elif \".jpeg\" in file and not os.path.exists( path + \"image files/\" + file):\n",
    "        shutil.move(path + file ,  path + \"image files/\" + file)\n",
    "    elif \".pdf\" in file and not os.path.exists( path + \"text files/\" + file):\n",
    "        shutil.move(path + file ,  path + \"text files/\" + file)\n",
    "    elif \".docx\" in file and not os.path.exists( path + \"text files/\" + file):\n",
    "        shutil.move(path + file ,  path + \"text files/\" + file)\n",
    "    else:\n",
    "        print (\"You have moved all files\")\n",
    "    "
   ]
  },
  {
   "cell_type": "code",
   "execution_count": null,
   "id": "d45dc8de",
   "metadata": {},
   "outputs": [],
   "source": []
  },
  {
   "cell_type": "code",
   "execution_count": null,
   "id": "7fb63080",
   "metadata": {},
   "outputs": [],
   "source": []
  },
  {
   "cell_type": "code",
   "execution_count": null,
   "id": "653fba78",
   "metadata": {},
   "outputs": [],
   "source": []
  }
 ],
 "metadata": {
  "kernelspec": {
   "display_name": "Python 3 (ipykernel)",
   "language": "python",
   "name": "python3"
  },
  "language_info": {
   "codemirror_mode": {
    "name": "ipython",
    "version": 3
   },
   "file_extension": ".py",
   "mimetype": "text/x-python",
   "name": "python",
   "nbconvert_exporter": "python",
   "pygments_lexer": "ipython3",
   "version": "3.10.9"
  }
 },
 "nbformat": 4,
 "nbformat_minor": 5
}
