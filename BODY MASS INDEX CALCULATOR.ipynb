{
 "cells": [
  {
   "cell_type": "code",
   "execution_count": 1,
   "id": "be6bc1fe",
   "metadata": {
    "scrolled": true
   },
   "outputs": [
    {
     "name": "stdout",
     "output_type": "stream",
     "text": [
      "Enter your namefife\n",
      "Enter your weight in pounds:100\n",
      "Enter your height in inches:18\n",
      "216\n"
     ]
    }
   ],
   "source": [
    "# input\n",
    "name = input (\"Enter your name\")\n",
    "weight = int (input('Enter your weight in pounds:'))\n",
    "Height = int (input('Enter your height in inches:'))\n",
    "BMI = (weight * 703)/ (Height* Height)\n",
    "print(int (BMI))"
   ]
  },
  {
   "cell_type": "code",
   "execution_count": 3,
   "id": "0b670119",
   "metadata": {},
   "outputs": [
    {
     "name": "stdout",
     "output_type": "stream",
     "text": [
      "fife, You are severly obese.\n"
     ]
    }
   ],
   "source": [
    "#if elif and else satement\n",
    "if BMI > 0:\n",
    "    if (BMI< 18.5):\n",
    "        print (name + \" , You are under weight.\")\n",
    "    elif (BMI<= 29.9):\n",
    "        print (name + \", You are normal weight.\")\n",
    "    elif (BMI < 29.9 ):\n",
    "        print (name + \", You are overweight. You need to exercise more\")\n",
    "    elif (BMI< 34.9):\n",
    "        print (name + \", You are obese.You need to exercise more\")\n",
    "    elif (BMI ):\n",
    "        print (name + \", You are severly obese.You need to exercise more\")\n",
    "        \n",
    "    else: \n",
    "        print (name +', You are mordily obese You need to exercise more')\n",
    "else: \n",
    "    print ('Enter Valid Input')"
   ]
  },
  {
   "cell_type": "code",
   "execution_count": null,
   "id": "dae10a6f",
   "metadata": {},
   "outputs": [],
   "source": [
    "# input & if elif and else satement combined to form calculator\n",
    "name = input (\"Enter your name\")\n",
    "weight = int (input('Enter your weight in pounds:'))\n",
    "Height = int (input('Enter your height in inches:'))\n",
    "BMI = (weight * 703)/ (Height* Height)\n",
    "print(int (BMI))\n",
    "\n",
    "if BMI > 0:\n",
    "    if (BMI< 18.5):\n",
    "        print (name + \" , You are under weight.\")\n",
    "    elif (BMI<= 29.9):\n",
    "        print (name + \", You are normal weight.\")\n",
    "    elif (BMI < 29.9 ):\n",
    "        print (name + \", You are overweight. You need to exercise more\")\n",
    "    elif (BMI< 34.9):\n",
    "        print (name + \", You are obese.You need to exercise more\")\n",
    "    elif (BMI ):\n",
    "        print (name + \", You are severly obese.You need to exercise more\")\n",
    "        \n",
    "    else: \n",
    "        print (name +', You are mordily obese You need to exercise more')\n",
    "else: \n",
    "    print ('Enter Valid Input')\n"
   ]
  },
  {
   "cell_type": "code",
   "execution_count": 1,
   "id": "960545c5",
   "metadata": {},
   "outputs": [
    {
     "data": {
      "application/vnd.jupyter.widget-view+json": {
       "model_id": "30083d2b43eb4d0ba8c44cbc6136532b",
       "version_major": 2,
       "version_minor": 0
      },
      "text/plain": [
       "Text(value='', description='Name:', placeholder='Enter your name', style=DescriptionStyle(description_width='i…"
      ]
     },
     "metadata": {},
     "output_type": "display_data"
    },
    {
     "data": {
      "application/vnd.jupyter.widget-view+json": {
       "model_id": "34c5885e15114d5e826abddd869a1d53",
       "version_major": 2,
       "version_minor": 0
      },
      "text/plain": [
       "FloatSlider(value=150.0, description='Weight (lbs):', max=500.0, step=1.0, style=SliderStyle(description_width…"
      ]
     },
     "metadata": {},
     "output_type": "display_data"
    },
    {
     "data": {
      "application/vnd.jupyter.widget-view+json": {
       "model_id": "608b5ed4f4024e7ab6a3ebc2cd1f24b1",
       "version_major": 2,
       "version_minor": 0
      },
      "text/plain": [
       "FloatSlider(value=60.0, description='Height (inches):', step=1.0, style=SliderStyle(description_width='initial…"
      ]
     },
     "metadata": {},
     "output_type": "display_data"
    },
    {
     "data": {
      "application/vnd.jupyter.widget-view+json": {
       "model_id": "775b38e8aebc4037a9ad1f954db2db54",
       "version_major": 2,
       "version_minor": 0
      },
      "text/plain": [
       "Button(button_style='info', description='Calculate BMI', style=ButtonStyle())"
      ]
     },
     "metadata": {},
     "output_type": "display_data"
    },
    {
     "data": {
      "application/vnd.jupyter.widget-view+json": {
       "model_id": "3ffcc28b05b04db196f8137c8406fc26",
       "version_major": 2,
       "version_minor": 0
      },
      "text/plain": [
       "Output()"
      ]
     },
     "metadata": {},
     "output_type": "display_data"
    }
   ],
   "source": [
    "#code from Chat gpt to design the calculator\n",
    "import ipywidgets as widgets\n",
    "from IPython.display import display\n",
    "\n",
    "# Create input fields\n",
    "name_input = widgets.Text(placeholder=\"Enter your name\", description=\"Name:\", style={'description_width': 'initial'})\n",
    "weight_input = widgets.FloatSlider(value=150, min=0, max=500, step=1, description=\"Weight (lbs):\", style={'description_width': 'initial'})\n",
    "height_input = widgets.FloatSlider(value=60, min=0, max=100, step=1, description=\"Height (inches):\", style={'description_width': 'initial'})\n",
    "\n",
    "# Create a button to calculate BMI\n",
    "calculate_button = widgets.Button(description=\"Calculate BMI\", button_style='info')\n",
    "\n",
    "# Output widget to display the result\n",
    "output = widgets.Output()\n",
    "\n",
    "# BMI calculation function\n",
    "def calculate_bmi(b):\n",
    "    weight = weight_input.value\n",
    "    height = height_input.value\n",
    "    BMI = (weight * 703) / (height * height)\n",
    "    \n",
    "    with output:\n",
    "        output.clear_output()\n",
    "        if BMI > 0:\n",
    "            if BMI < 18.5:\n",
    "                print(name_input.value + \", You are underweight.\")\n",
    "            elif BMI <= 24.9:\n",
    "                print(name_input.value + \", You are a normal weight.\")\n",
    "            elif BMI <= 29.9:\n",
    "                print(name_input.value + \", You are overweight. You need to exercise more.\")\n",
    "            elif BMI <= 34.9:\n",
    "                print(name_input.value + \", You are obese. You need to exercise more.\")\n",
    "            else:\n",
    "                print(name_input.value + \", You are severely obese. You need to exercise more.\")\n",
    "        else:\n",
    "            print('Enter valid input')\n",
    "\n",
    "calculate_button.on_click(calculate_bmi)\n",
    "\n",
    "# Display widgets\n",
    "display(name_input, weight_input, height_input, calculate_button, output)\n"
   ]
  },
  {
   "cell_type": "code",
   "execution_count": null,
   "id": "1f4b5a78",
   "metadata": {},
   "outputs": [],
   "source": []
  }
 ],
 "metadata": {
  "kernelspec": {
   "display_name": "Python 3 (ipykernel)",
   "language": "python",
   "name": "python3"
  },
  "language_info": {
   "codemirror_mode": {
    "name": "ipython",
    "version": 3
   },
   "file_extension": ".py",
   "mimetype": "text/x-python",
   "name": "python",
   "nbconvert_exporter": "python",
   "pygments_lexer": "ipython3",
   "version": "3.10.9"
  }
 },
 "nbformat": 4,
 "nbformat_minor": 5
}
